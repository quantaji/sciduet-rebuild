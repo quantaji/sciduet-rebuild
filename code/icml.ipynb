{
 "cells": [
  {
   "cell_type": "code",
   "execution_count": null,
   "metadata": {},
   "outputs": [],
   "source": [
    "import requests\n",
    "import pandas as pd\n",
    "from bs4 import BeautifulSoup\n",
    "import os\n",
    "import re"
   ]
  },
  {
   "cell_type": "code",
   "execution_count": null,
   "metadata": {},
   "outputs": [],
   "source": [
    "# no slides for 2020\n",
    "years = [2019, 2020, 2021, 2022]  # only these years are possible\n",
    "volume = {\n",
    "    '2019': 'v97',\n",
    "    '2020': 'v119',\n",
    "    '2021': 'v139',\n",
    "    '2022': 'v162',\n",
    "}"
   ]
  },
  {
   "cell_type": "code",
   "execution_count": null,
   "metadata": {},
   "outputs": [],
   "source": [
    "url_store_dir = '../initial_data/stage_1/extracted_urls'\n",
    "if not os.path.exists(url_store_dir):\n",
    "    os.makedirs(url_store_dir)"
   ]
  },
  {
   "cell_type": "code",
   "execution_count": null,
   "metadata": {},
   "outputs": [],
   "source": [
    "for year in years:\n",
    "    schedule_url = 'https://icml.cc/Conferences/{year}/Schedule'.format(year=year)\n",
    "\n",
    "    r = requests.get(schedule_url)\n",
    "    soup = BeautifulSoup(r.content, \"lxml\")\n",
    "    filtered = soup.find_all('div', string=['Oral', 'Poster', 'Spotlight'])  # leave only papers remain\n",
    "\n",
    "    paper_list_url = 'http://proceedings.mlr.press/{volume}/'.format(volume=volume[str(year)])\n",
    "    r_tmp = requests.get(paper_list_url)\n",
    "    paper_list = BeautifulSoup(r_tmp.content, \"lxml\")\n",
    "\n",
    "    pair_all = {'titles': [], 'slides': [], 'papers': []}\n",
    "    index = 0\n",
    "\n",
    "    for item in filtered:\n",
    "\n",
    "        main_item = item.parent\n",
    "        # print(main_item)\n",
    "\n",
    "        # find slides url now\n",
    "        slide_url = None\n",
    "        slide_item = main_item.find('a', title='Slides')\n",
    "        if not slide_item:\n",
    "            continue\n",
    "        else:\n",
    "            temp = slide_item['href']\n",
    "            if temp[-4:] != '.pdf':\n",
    "                continue\n",
    "            else:\n",
    "                slide_url = temp\n",
    "                if slide_url[:6] == '/media':\n",
    "                    slide_url = 'icml.cc' + slide_url\n",
    "\n",
    "        # print(slide_url)\n",
    "\n",
    "        # title\n",
    "        title = main_item.find('div', class_=\"maincardBody\").string\n",
    "        if '$' in title:\n",
    "            continue\n",
    "        # print(title)\n",
    "\n",
    "        # find paper url now\n",
    "        paper_url = None\n",
    "        paper_item = None\n",
    "        try:\n",
    "            paper_item = paper_list.find('p', string=re.compile(title))\n",
    "        except:\n",
    "            continue\n",
    "        if not paper_item:\n",
    "            continue\n",
    "        paper_item = paper_item.parent\n",
    "        if not paper_item:\n",
    "            continue\n",
    "        download_item = paper_item.find('a', href=True, text='Download PDF')\n",
    "        if not download_item:\n",
    "            continue\n",
    "        paper_url = download_item['href']\n",
    "        print(paper_url)\n",
    "   \n",
    "        slide_url = slide_url.replace(\"https://\", \"\").replace(\"http://\", \"\")\n",
    "        paper_url = paper_url.replace(\"https://\", \"\").replace(\"http://\", \"\")\n",
    "\n",
    "        pair_all['titles'].append(title)\n",
    "        pair_all['slides'].append(slide_url)\n",
    "        pair_all['papers'].append(paper_url)\n",
    "\n",
    "        print(index, title, paper_url, slide_url, sep=' ')\n",
    "        index += 1\n",
    "\n",
    "    pd.DataFrame(pair_all).to_csv(os.path.join(url_store_dir, 'icml_{year}.csv'.format(year=year)))\n",
    "    print('Total count: ', index)\n"
   ]
  },
  {
   "cell_type": "code",
   "execution_count": null,
   "metadata": {},
   "outputs": [],
   "source": []
  }
 ],
 "metadata": {
  "kernelspec": {
   "display_name": "sciduet",
   "language": "python",
   "name": "python3"
  },
  "language_info": {
   "codemirror_mode": {
    "name": "ipython",
    "version": 3
   },
   "file_extension": ".py",
   "mimetype": "text/x-python",
   "name": "python",
   "nbconvert_exporter": "python",
   "pygments_lexer": "ipython3",
   "version": "3.8.16"
  },
  "orig_nbformat": 4
 },
 "nbformat": 4,
 "nbformat_minor": 2
}
