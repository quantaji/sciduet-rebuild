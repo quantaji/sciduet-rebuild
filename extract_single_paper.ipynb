{
 "cells": [
  {
   "cell_type": "code",
   "execution_count": 8,
   "metadata": {},
   "outputs": [],
   "source": [
    "from pathlib import Path\n",
    "import pandas as pd\n",
    "from grobid_client.grobid_client import GrobidClient\n",
    "import os\n",
    "import shutil"
   ]
  },
  {
   "cell_type": "code",
   "execution_count": 1,
   "metadata": {},
   "outputs": [],
   "source": [
    "pdf_pth = 'annual_reviews_chapter-2022-08-16.pdf'"
   ]
  },
  {
   "attachments": {},
   "cell_type": "markdown",
   "metadata": {},
   "source": [
    "### PDF to xml"
   ]
  },
  {
   "cell_type": "code",
   "execution_count": 3,
   "metadata": {},
   "outputs": [
    {
     "name": "stdout",
     "output_type": "stream",
     "text": [
      "GROBID server is up and running\n"
     ]
    }
   ],
   "source": [
    "client = GrobidClient(config_path=str(Path.home()) + '/Library/grobid_client_python/config.json')"
   ]
  },
  {
   "cell_type": "code",
   "execution_count": 6,
   "metadata": {},
   "outputs": [],
   "source": [
    "temp_dir = './temp'"
   ]
  },
  {
   "cell_type": "code",
   "execution_count": 16,
   "metadata": {},
   "outputs": [],
   "source": [
    "if not os.path.exists(temp_dir):\n",
    "    os.makedirs(temp_dir)\n",
    "\n",
    "temp_pdf_dir = os.path.join(temp_dir, 'pdf')\n",
    "if not os.path.exists(temp_pdf_dir):\n",
    "    os.makedirs(temp_pdf_dir)\n",
    "\n",
    "temp_xml_dir = os.path.join(temp_dir, 'xml')\n",
    "if not os.path.exists(temp_xml_dir):\n",
    "    os.makedirs(temp_xml_dir)"
   ]
  },
  {
   "cell_type": "code",
   "execution_count": 17,
   "metadata": {},
   "outputs": [
    {
     "data": {
      "text/plain": [
       "'./temp/pdf/annual_reviews_chapter-2022-08-16.pdf'"
      ]
     },
     "execution_count": 17,
     "metadata": {},
     "output_type": "execute_result"
    }
   ],
   "source": [
    "shutil.copy(pdf_pth, temp_pdf_dir)"
   ]
  },
  {
   "cell_type": "code",
   "execution_count": 18,
   "metadata": {},
   "outputs": [
    {
     "name": "stdout",
     "output_type": "stream",
     "text": [
      "annual_reviews_chapter-2022-08-16.pdf\n",
      "1 files to process in current batch\n"
     ]
    }
   ],
   "source": [
    "client.process(\n",
    "    'processFulltextDocument',\n",
    "    temp_pdf_dir,\n",
    "    tei_coordinates=True,\n",
    "    force=True,\n",
    "    verbose=True,\n",
    "    output=temp_xml_dir,\n",
    ")"
   ]
  },
  {
   "cell_type": "code",
   "execution_count": 15,
   "metadata": {},
   "outputs": [],
   "source": [
    "file_name = pdf_pth.split('/')[-1]\n",
    "name = file_name[:-4]\n",
    "xml_name = name + '.tei.xml'"
   ]
  },
  {
   "cell_type": "code",
   "execution_count": 30,
   "metadata": {},
   "outputs": [
    {
     "data": {
      "text/plain": [
       "True"
      ]
     },
     "execution_count": 30,
     "metadata": {},
     "output_type": "execute_result"
    }
   ],
   "source": [
    "xml_pth = os.path.join(temp_xml_dir, xml_name)\n",
    "os.path.exists(xml_pth)"
   ]
  },
  {
   "attachments": {},
   "cell_type": "markdown",
   "metadata": {},
   "source": [
    "### PDF to figures"
   ]
  },
  {
   "cell_type": "code",
   "execution_count": 22,
   "metadata": {},
   "outputs": [],
   "source": [
    "from subprocess import call"
   ]
  },
  {
   "cell_type": "code",
   "execution_count": 26,
   "metadata": {},
   "outputs": [],
   "source": [
    "pdffigures2_home = os.path.abspath(str(Path.home()) + '/Library/pdffigures2')\n",
    "\n",
    "fig_dir_profix = 'figure'\n",
    "img_dir_profix = 'figure/image'\n",
    "json_dir_profix = 'figure/json'\n",
    "\n",
    "tmp_fig_dir = os.path.join(pdffigures2_home, fig_dir_profix)\n",
    "if not os.path.exists(tmp_fig_dir):\n",
    "    os.makedirs(tmp_fig_dir)\n",
    "tmp_img_dir = os.path.join(pdffigures2_home, img_dir_profix)\n",
    "if not os.path.exists(tmp_img_dir):\n",
    "    os.makedirs(tmp_img_dir)\n",
    "tmp_json_dir = os.path.join(pdffigures2_home, json_dir_profix)\n",
    "if not os.path.exists(tmp_json_dir):\n",
    "    os.makedirs(tmp_json_dir)"
   ]
  },
  {
   "cell_type": "code",
   "execution_count": 27,
   "metadata": {},
   "outputs": [
    {
     "name": "stdout",
     "output_type": "stream",
     "text": [
      "[info] Loading settings for project pdffigures2-build from plugins.sbt ...\n",
      "[info] Loading project definition from /home/quanta/Library/pdffigures2/project\n",
      "[info] Loading settings for project root from build.sbt ...\n",
      "[info] Set current project to pdffigures2 (in build file:/home/quanta/Library/pdffigures2/)\n",
      "[warn] Multiple main classes detected.  Run 'show discoveredMainClasses' to see the list\n",
      "[info] running org.allenai.pdffigures2.FigureExtractorBatchCli -e -q /home/quanta/Datasets/sciduet-dataset/temp/pdf/ -m ./figure/image/ -d ./figure/json/ -s ./figure/stat.json\n",
      "01:18:35.674 [run-main-0] INFO  o.a.p.FigureExtractorBatchCli$ - Processing file annual_reviews_chapter-2022-08-16.pdf (1 of 1)\n",
      "01:18:37.409 [run-main-0] INFO  o.a.p.FigureExtractorBatchCli$ - Finished annual_reviews_chapter-2022-08-16.pdf in 1.733 seconds\n",
      "01:18:37.410 [run-main-0] INFO  o.a.p.FigureExtractorBatchCli$ - Finished processing 1 files\n",
      "01:18:37.410 [run-main-0] INFO  o.a.p.FigureExtractorBatchCli$ - Took 1.736 seconds\n",
      "01:18:37.411 [run-main-0] INFO  o.a.p.FigureExtractorBatchCli$ - Stats saved to ./figure/stat.json\n",
      "01:18:37.411 [run-main-0] INFO  o.a.p.FigureExtractorBatchCli$ - No errors\n",
      "[success] Total time: 2 s, completed 2023-5-12 1:18:37\n"
     ]
    }
   ],
   "source": [
    "args = [\n",
    "    'sbt',\n",
    "    '-J-Xmx4G',\n",
    "    'runMain org.allenai.pdffigures2.FigureExtractorBatchCli -e -q ' + os.path.abspath(temp_pdf_dir) + '/' + ' -m ' + './' + img_dir_profix + '/' + ' -d ' + './' + json_dir_profix + '/' + ' -s ' + './' + fig_dir_profix + '/stat.json',\n",
    "]\n",
    "exit_code = call(args, cwd=pdffigures2_home)"
   ]
  },
  {
   "cell_type": "code",
   "execution_count": 28,
   "metadata": {},
   "outputs": [
    {
     "data": {
      "text/plain": [
       "'./temp/figure'"
      ]
     },
     "execution_count": 28,
     "metadata": {},
     "output_type": "execute_result"
    }
   ],
   "source": [
    "shutil.move(tmp_fig_dir, temp_dir)"
   ]
  },
  {
   "cell_type": "code",
   "execution_count": 31,
   "metadata": {},
   "outputs": [
    {
     "data": {
      "text/plain": [
       "True"
      ]
     },
     "execution_count": 31,
     "metadata": {},
     "output_type": "execute_result"
    }
   ],
   "source": [
    "figure_json_pth = os.path.join(temp_dir, 'figure/json', name + '.json')\n",
    "os.path.exists(figure_json_pth)"
   ]
  },
  {
   "attachments": {},
   "cell_type": "markdown",
   "metadata": {},
   "source": [
    "### Merge to json"
   ]
  },
  {
   "cell_type": "code",
   "execution_count": 32,
   "metadata": {},
   "outputs": [],
   "source": [
    "from core.merge2json import single_entry\n",
    "_, title, abstract, text, headers, figures = single_entry('', xml_pth=xml_pth, fig_json_pth=figure_json_pth)"
   ]
  },
  {
   "cell_type": "code",
   "execution_count": 36,
   "metadata": {},
   "outputs": [],
   "source": [
    "temp_json_dir = os.path.join(temp_dir, 'json')\n",
    "if not os.path.exists(temp_json_dir):\n",
    "    os.makedirs(temp_json_dir)"
   ]
  },
  {
   "cell_type": "code",
   "execution_count": 37,
   "metadata": {},
   "outputs": [],
   "source": [
    "json_data = {\n",
    "    'title': title,\n",
    "    'abstract': abstract,\n",
    "    'text': text,\n",
    "    'headers': headers,\n",
    "    'figures': figures,\n",
    "}"
   ]
  },
  {
   "cell_type": "code",
   "execution_count": 38,
   "metadata": {},
   "outputs": [],
   "source": [
    "import json\n",
    "with open(os.path.join(temp_json_dir, name + '.json'), 'w') as f:\n",
    "    json.dump(json_data, f, indent=4)"
   ]
  },
  {
   "cell_type": "code",
   "execution_count": null,
   "metadata": {},
   "outputs": [],
   "source": []
  }
 ],
 "metadata": {
  "kernelspec": {
   "display_name": "sciduet",
   "language": "python",
   "name": "python3"
  },
  "language_info": {
   "codemirror_mode": {
    "name": "ipython",
    "version": 3
   },
   "file_extension": ".py",
   "mimetype": "text/x-python",
   "name": "python",
   "nbconvert_exporter": "python",
   "pygments_lexer": "ipython3",
   "version": "3.8.16"
  },
  "orig_nbformat": 4
 },
 "nbformat": 4,
 "nbformat_minor": 2
}
